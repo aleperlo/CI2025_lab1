{
 "cells": [
  {
   "cell_type": "markdown",
   "id": "11fa4375",
   "metadata": {},
   "source": [
    "Copyright **`(c)`** 2025 Giovanni Squillero `<giovanni.squillero@polito.it>`  \n",
    "[`https://github.com/squillero/computational-intelligence`](https://github.com/squillero/computational-intelligence)  \n",
    "Free under certain conditions — see the [`license`](https://github.com/squillero/computational-intelligence/blob/master/LICENSE.md) for details.  "
   ]
  },
  {
   "cell_type": "code",
   "execution_count": null,
   "id": "c0882a9f",
   "metadata": {},
   "outputs": [],
   "source": [
    "import numpy as np\n",
    "import matplotlib.pyplot as plt\n",
    "from tqdm import tqdm"
   ]
  },
  {
   "cell_type": "code",
   "execution_count": null,
   "id": "3adb670e",
   "metadata": {},
   "outputs": [],
   "source": [
    "NUM_KNAPSACKS = 3\n",
    "NUM_ITEMS = 10\n",
    "NUM_DIMENSIONS = 2"
   ]
  },
  {
   "cell_type": "code",
   "execution_count": null,
   "id": "2db51e99",
   "metadata": {},
   "outputs": [],
   "source": [
    "VALUES = np.random.randint(0, 100, size=NUM_ITEMS)\n",
    "WEIGHTS = np.random.randint(0, 100, size=(NUM_ITEMS, NUM_DIMENSIONS))\n",
    "CONSTRAINTS = np.random.randint(\n",
    "    0, 100 * NUM_ITEMS // NUM_KNAPSACKS, size=(NUM_KNAPSACKS, NUM_DIMENSIONS)\n",
    ")"
   ]
  },
  {
   "cell_type": "code",
   "execution_count": null,
   "id": "15da2136",
   "metadata": {},
   "outputs": [],
   "source": [
    "CONSTRAINTS"
   ]
  },
  {
   "cell_type": "code",
   "execution_count": null,
   "id": "30241643",
   "metadata": {},
   "outputs": [],
   "source": [
    "def fitness(solution):\n",
    "    return np.sum(VALUES[solution >= 0])\n",
    "\n",
    "def is_feasible(solution):\n",
    "    for k in range(NUM_KNAPSACKS):\n",
    "        if np.any(np.sum(WEIGHTS[solution == k], axis=0) > CONSTRAINTS[k]):\n",
    "            return False\n",
    "    return True"
   ]
  },
  {
   "cell_type": "code",
   "execution_count": null,
   "id": "668ba21c",
   "metadata": {},
   "outputs": [],
   "source": [
    "solution = np.random.randint(-1, NUM_KNAPSACKS, size=NUM_ITEMS)\n",
    "solution = np.ones(NUM_ITEMS, dtype=int) * -1"
   ]
  },
  {
   "cell_type": "code",
   "execution_count": null,
   "id": "9a3ea1c6",
   "metadata": {},
   "outputs": [],
   "source": [
    "class ExperimentResult:\n",
    "    def __init__(self, name):\n",
    "        self.name = name\n",
    "        self.fitness_history = []\n",
    "        self.best_solution = None\n",
    "        self.best_fitness = -1\n",
    "        self.restarts = []\n",
    "    \n",
    "    def add_fitness(self, fitness, solution):\n",
    "        self.fitness_history.append(fitness)\n",
    "        if fitness > self.best_fitness:\n",
    "            self.best_fitness = fitness\n",
    "            self.best_solution = solution.copy()\n",
    "    \n",
    "    def plot_fitness(self):\n",
    "        fig, ax = plt.subplots()\n",
    "        ax.plot(self.fitness_history)\n",
    "        if len(self.restarts) > 0:\n",
    "            for r in self.restarts:\n",
    "                ax.axvline(r, color='red', linestyle='--', alpha=0.5)\n",
    "        ax.set_xlabel(\"Iteration\")\n",
    "        ax.set_ylabel(\"Maximum cumulated Fitness\")\n",
    "        ax.set_title(self.name)\n",
    "        ax.set_xlim(0, len(self.fitness_history))\n",
    "        ax.set_ylim(0, np.sum(VALUES) * 1.1)\n",
    "        plt.show()\n",
    "        return ax\n",
    "    \n",
    "    def join(self, other):\n",
    "        self.restarts.append(len(self.fitness_history))\n",
    "        self.fitness_history.extend(other.fitness_history)\n",
    "        if other.best_fitness > self.best_fitness:\n",
    "            self.best_fitness = other.best_fitness\n",
    "            self.best_solution = other.best_solution.copy()\n",
    "    \n",
    "    def __str__(self):\n",
    "        header = f\"Experiment: {self.name}\\n\"\n",
    "        best = f\"Best Fitness: {self.best_fitness}\\n\"\n",
    "        for k in range(NUM_KNAPSACKS):\n",
    "            best += f\" Knapsack {k}: items {np.where(self.best_solution == k)[0].tolist()}\\n\"\n",
    "        best += f\" Unassigned items: {np.where(self.best_solution == -1)[0].tolist()}\\n\"\n",
    "        return header + best"
   ]
  },
  {
   "cell_type": "code",
   "execution_count": null,
   "id": "37d0d35e",
   "metadata": {},
   "outputs": [],
   "source": [
    "def tweak(solution):\n",
    "    i = np.random.randint(0, NUM_ITEMS)\n",
    "    feasible_choices = np.arange(-1, NUM_KNAPSACKS)\n",
    "    probabilities = np.array([0.5] + [0.5 / NUM_KNAPSACKS] * NUM_KNAPSACKS)\n",
    "    probabilities = None\n",
    "    new_value = np.random.choice(feasible_choices, p=probabilities)\n",
    "    while new_value == solution[i]:\n",
    "        new_value = np.random.choice(feasible_choices, p=probabilities)\n",
    "    new_solution = solution.copy()\n",
    "    new_solution[i] = new_value\n",
    "    if new_value == -1:\n",
    "        old_value = new_solution[i]\n",
    "        unassigned_items = np.arange(NUM_ITEMS)[solution == -1]\n",
    "        if len(unassigned_items) >= 1:\n",
    "            j = np.random.choice(unassigned_items)\n",
    "            new_solution[j] = old_value\n",
    "    return new_solution"
   ]
  },
  {
   "cell_type": "code",
   "execution_count": null,
   "id": "c3608be8",
   "metadata": {},
   "outputs": [],
   "source": [
    "def hc_solver(solution, max_iter=10000):\n",
    "    best_solution = solution.copy()\n",
    "    best_fitness = fitness(solution) if is_feasible(solution) else 0\n",
    "    results = ExperimentResult(\"Hill Climbing\")\n",
    "    results.add_fitness(best_fitness, best_solution)\n",
    "    for _ in range(max_iter):\n",
    "        new_solution = tweak(best_solution)\n",
    "        if is_feasible(new_solution):\n",
    "            new_fitness = fitness(new_solution)\n",
    "            if new_fitness >= best_fitness:\n",
    "                best_solution = new_solution\n",
    "                best_fitness = new_fitness\n",
    "        results.add_fitness(best_fitness, best_solution)\n",
    "    return results"
   ]
  },
  {
   "cell_type": "code",
   "execution_count": null,
   "id": "faa00439",
   "metadata": {},
   "outputs": [],
   "source": [
    "def hc_steepest_ascent_solver(solution, max_iter=1000):\n",
    "    best_solution = solution.copy()\n",
    "    best_fitness = fitness(solution) if is_feasible(solution) else 0\n",
    "    results = ExperimentResult(\"Steepest Ascent Hill Climbing\")\n",
    "    results.add_fitness(best_fitness, best_solution)\n",
    "    for _ in range(max_iter):\n",
    "        neighbors = [tweak(best_solution) for _ in range(10)]\n",
    "        feasible_neighbors = [s for s in neighbors if is_feasible(s)]\n",
    "        if not feasible_neighbors:\n",
    "            results.add_fitness(best_fitness, best_solution)\n",
    "            continue\n",
    "        new_solution = max(feasible_neighbors, key=fitness)\n",
    "        new_fitness = fitness(new_solution)\n",
    "        if new_fitness >= best_fitness:\n",
    "            best_solution = new_solution\n",
    "            best_fitness = new_fitness\n",
    "        results.add_fitness(best_fitness, best_solution)\n",
    "    return results"
   ]
  },
  {
   "cell_type": "code",
   "execution_count": null,
   "id": "09acd2db",
   "metadata": {},
   "outputs": [],
   "source": [
    "def sa_solver(solution, max_iter=10000, initial_temp=100, cooling_rate=0.99, restarted=False):\n",
    "    current_solution = solution.copy()\n",
    "    current_fitness = fitness(solution) if is_feasible(solution) else 0\n",
    "    results = ExperimentResult(\"Simulated Annealing\")\n",
    "    results.add_fitness(current_fitness, current_solution)\n",
    "    best_solution = current_solution.copy()\n",
    "    best_fitness = current_fitness\n",
    "    temp = initial_temp\n",
    "    for _ in range(max_iter):\n",
    "        new_solution = tweak(current_solution)\n",
    "        if is_feasible(new_solution):\n",
    "            new_fitness = fitness(new_solution)\n",
    "            if new_fitness >= current_fitness:\n",
    "                current_solution = new_solution\n",
    "                current_fitness = new_fitness\n",
    "                if new_fitness >= best_fitness:\n",
    "                    best_solution = new_solution\n",
    "                    best_fitness = new_fitness\n",
    "                if restarted and new_fitness >= best_fitness:\n",
    "                    temp = initial_temp\n",
    "            else:\n",
    "                acceptance_prob = np.exp((new_fitness - current_fitness) / temp)\n",
    "                if np.random.rand() < acceptance_prob:\n",
    "                    current_solution = new_solution\n",
    "                    current_fitness = new_fitness\n",
    "        temp *= cooling_rate\n",
    "        results.add_fitness(best_fitness, best_solution)\n",
    "    return results"
   ]
  },
  {
   "cell_type": "code",
   "execution_count": null,
   "id": "7ebfc2f8",
   "metadata": {},
   "outputs": [],
   "source": [
    "results = hc_solver(solution)\n",
    "results.plot_fitness()\n",
    "print(results)"
   ]
  },
  {
   "cell_type": "code",
   "execution_count": null,
   "id": "dcf2b5e1",
   "metadata": {},
   "outputs": [],
   "source": [
    "results = hc_steepest_ascent_solver(solution)\n",
    "results.plot_fitness()\n",
    "print(results)"
   ]
  },
  {
   "cell_type": "code",
   "execution_count": null,
   "id": "4f71ab7f",
   "metadata": {},
   "outputs": [],
   "source": [
    "results = sa_solver(solution, restarted=True)\n",
    "results.plot_fitness()\n",
    "print(results)"
   ]
  },
  {
   "cell_type": "code",
   "execution_count": null,
   "id": "87dc5316",
   "metadata": {},
   "outputs": [],
   "source": [
    "solution = np.ones(NUM_ITEMS, dtype=int) * -1\n",
    "# results = sa_solver(solution, max_iter=10000, restarted=True)\n",
    "for _ in tqdm(range(9)):\n",
    "    new_results = sa_solver(results.best_solution, max_iter=10000, initial_temp=500, restarted=True)\n",
    "    results.join(new_results)\n",
    "results.plot_fitness()\n",
    "print(results)"
   ]
  },
  {
   "cell_type": "markdown",
   "id": "8e0e0673",
   "metadata": {},
   "source": [
    "## TEST PROBLEMS"
   ]
  },
  {
   "cell_type": "code",
   "execution_count": null,
   "id": "5595db9c",
   "metadata": {},
   "outputs": [],
   "source": [
    "# Problem 1:\n",
    "rng = np.random.default_rng(seed=42)\n",
    "NUM_KNAPSACKS = 3\n",
    "NUM_ITEMS = 20\n",
    "NUM_DIMENSIONS = 2\n",
    "VALUES = rng.integers(0, 100, size=NUM_ITEMS)\n",
    "WEIGHTS = rng.integers(0, 100, size=(NUM_ITEMS, NUM_DIMENSIONS))\n",
    "CONSTRAINTS = rng.integers(\n",
    "    0, 100 * NUM_ITEMS // NUM_KNAPSACKS, size=(NUM_KNAPSACKS, NUM_DIMENSIONS)\n",
    ")"
   ]
  },
  {
   "cell_type": "code",
   "execution_count": null,
   "id": "9eed08a0",
   "metadata": {},
   "outputs": [],
   "source": [
    "# Problem 2:\n",
    "rng = np.random.default_rng(seed=42)\n",
    "NUM_KNAPSACKS = 10\n",
    "NUM_ITEMS = 100\n",
    "NUM_DIMENSIONS = 10\n",
    "VALUES = rng.integers(0, 1000, size=NUM_ITEMS)\n",
    "WEIGHTS = rng.integers(0, 1000, size=(NUM_ITEMS, NUM_DIMENSIONS))\n",
    "CONSTRAINTS = rng.integers(\n",
    "    1000 * 2, 1000 * NUM_ITEMS // NUM_KNAPSACKS, size=(NUM_KNAPSACKS, NUM_DIMENSIONS)\n",
    ")"
   ]
  },
  {
   "cell_type": "code",
   "execution_count": null,
   "id": "117380d6",
   "metadata": {},
   "outputs": [],
   "source": [
    "# Problem 3:\n",
    "rng = np.random.default_rng(seed=42)\n",
    "NUM_KNAPSACKS = 100\n",
    "NUM_ITEMS = 5000\n",
    "NUM_DIMENSIONS = 100\n",
    "VALUES = rng.integers(0, 1000, size=NUM_ITEMS)\n",
    "WEIGHTS = rng.integers(0, 1000, size=(NUM_ITEMS, NUM_DIMENSIONS))\n",
    "CONSTRAINTS = rng.integers(\n",
    "    1000 * 10, 1000 * 2 * NUM_ITEMS // NUM_KNAPSACKS, size=(NUM_KNAPSACKS, NUM_DIMENSIONS)\n",
    ")"
   ]
  }
 ],
 "metadata": {
  "kernelspec": {
   "display_name": "compint",
   "language": "python",
   "name": "python3"
  },
  "language_info": {
   "codemirror_mode": {
    "name": "ipython",
    "version": 3
   },
   "file_extension": ".py",
   "mimetype": "text/x-python",
   "name": "python",
   "nbconvert_exporter": "python",
   "pygments_lexer": "ipython3",
   "version": "3.13.7"
  }
 },
 "nbformat": 4,
 "nbformat_minor": 5
}
